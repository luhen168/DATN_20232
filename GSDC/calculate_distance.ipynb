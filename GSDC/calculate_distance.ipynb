{
 "cells": [
  {
   "cell_type": "code",
   "execution_count": 41,
   "metadata": {},
   "outputs": [],
   "source": [
    "import numpy as np\n",
    "import pandas as pd\n",
    "import math"
   ]
  },
  {
   "cell_type": "code",
   "execution_count": 42,
   "metadata": {},
   "outputs": [
    {
     "data": {
      "text/html": [
       "<div>\n",
       "<style scoped>\n",
       "    .dataframe tbody tr th:only-of-type {\n",
       "        vertical-align: middle;\n",
       "    }\n",
       "\n",
       "    .dataframe tbody tr th {\n",
       "        vertical-align: top;\n",
       "    }\n",
       "\n",
       "    .dataframe thead th {\n",
       "        text-align: right;\n",
       "    }\n",
       "</style>\n",
       "<table border=\"1\" class=\"dataframe\">\n",
       "  <thead>\n",
       "    <tr style=\"text-align: right;\">\n",
       "      <th></th>\n",
       "      <th>utcTimeMillis</th>\n",
       "      <th>Latitude_1</th>\n",
       "      <th>Longitude_1</th>\n",
       "      <th>Latitude_2</th>\n",
       "      <th>Longitude_2</th>\n",
       "    </tr>\n",
       "  </thead>\n",
       "  <tbody>\n",
       "    <tr>\n",
       "      <th>0</th>\n",
       "      <td>1717828418000</td>\n",
       "      <td>21.005067</td>\n",
       "      <td>105.845938</td>\n",
       "      <td>21.005265</td>\n",
       "      <td>105.846028</td>\n",
       "    </tr>\n",
       "    <tr>\n",
       "      <th>1</th>\n",
       "      <td>1717828419000</td>\n",
       "      <td>21.005067</td>\n",
       "      <td>105.846010</td>\n",
       "      <td>21.005268</td>\n",
       "      <td>105.846091</td>\n",
       "    </tr>\n",
       "    <tr>\n",
       "      <th>2</th>\n",
       "      <td>1717828421000</td>\n",
       "      <td>21.005062</td>\n",
       "      <td>105.846152</td>\n",
       "      <td>21.005165</td>\n",
       "      <td>105.846227</td>\n",
       "    </tr>\n",
       "    <tr>\n",
       "      <th>3</th>\n",
       "      <td>1717828422000</td>\n",
       "      <td>21.005060</td>\n",
       "      <td>105.846218</td>\n",
       "      <td>21.005164</td>\n",
       "      <td>105.846289</td>\n",
       "    </tr>\n",
       "    <tr>\n",
       "      <th>4</th>\n",
       "      <td>1717828423000</td>\n",
       "      <td>21.005050</td>\n",
       "      <td>105.846293</td>\n",
       "      <td>21.005177</td>\n",
       "      <td>105.846326</td>\n",
       "    </tr>\n",
       "    <tr>\n",
       "      <th>...</th>\n",
       "      <td>...</td>\n",
       "      <td>...</td>\n",
       "      <td>...</td>\n",
       "      <td>...</td>\n",
       "      <td>...</td>\n",
       "    </tr>\n",
       "    <tr>\n",
       "      <th>401</th>\n",
       "      <td>1717828849000</td>\n",
       "      <td>21.005080</td>\n",
       "      <td>105.845723</td>\n",
       "      <td>21.004993</td>\n",
       "      <td>105.845857</td>\n",
       "    </tr>\n",
       "    <tr>\n",
       "      <th>402</th>\n",
       "      <td>1717828850000</td>\n",
       "      <td>21.005077</td>\n",
       "      <td>105.845702</td>\n",
       "      <td>21.004984</td>\n",
       "      <td>105.845800</td>\n",
       "    </tr>\n",
       "    <tr>\n",
       "      <th>403</th>\n",
       "      <td>1717828851000</td>\n",
       "      <td>21.005073</td>\n",
       "      <td>105.845675</td>\n",
       "      <td>21.004979</td>\n",
       "      <td>105.845719</td>\n",
       "    </tr>\n",
       "    <tr>\n",
       "      <th>404</th>\n",
       "      <td>1717828852000</td>\n",
       "      <td>21.005082</td>\n",
       "      <td>105.845647</td>\n",
       "      <td>21.005005</td>\n",
       "      <td>105.845663</td>\n",
       "    </tr>\n",
       "    <tr>\n",
       "      <th>405</th>\n",
       "      <td>1717828853000</td>\n",
       "      <td>21.005090</td>\n",
       "      <td>105.845605</td>\n",
       "      <td>21.005000</td>\n",
       "      <td>105.845603</td>\n",
       "    </tr>\n",
       "  </tbody>\n",
       "</table>\n",
       "<p>406 rows × 5 columns</p>\n",
       "</div>"
      ],
      "text/plain": [
       "     utcTimeMillis  Latitude_1  Longitude_1  Latitude_2  Longitude_2\n",
       "0    1717828418000   21.005067   105.845938   21.005265   105.846028\n",
       "1    1717828419000   21.005067   105.846010   21.005268   105.846091\n",
       "2    1717828421000   21.005062   105.846152   21.005165   105.846227\n",
       "3    1717828422000   21.005060   105.846218   21.005164   105.846289\n",
       "4    1717828423000   21.005050   105.846293   21.005177   105.846326\n",
       "..             ...         ...          ...         ...          ...\n",
       "401  1717828849000   21.005080   105.845723   21.004993   105.845857\n",
       "402  1717828850000   21.005077   105.845702   21.004984   105.845800\n",
       "403  1717828851000   21.005073   105.845675   21.004979   105.845719\n",
       "404  1717828852000   21.005082   105.845647   21.005005   105.845663\n",
       "405  1717828853000   21.005090   105.845605   21.005000   105.845603\n",
       "\n",
       "[406 rows x 5 columns]"
      ]
     },
     "execution_count": 42,
     "metadata": {},
     "output_type": "execute_result"
    }
   ],
   "source": [
    "ground = pd.read_csv('ground_truth_2024_06_08_13_33.csv')\n",
    "ground_truth = pd.DataFrame()\n",
    "ground_truth['utcTimeMillis'] = ground['utcTimeMillis'] - 1000\n",
    "ground_truth['Latitude'] = ground['Latitude']\n",
    "ground_truth['Longitude'] = ground['Longitude']\n",
    "position = pd.read_csv('position_data_2024_06_08_13_33_sat.csv')\n",
    "merged_df = pd.merge(ground_truth, position, how = 'inner', on='utcTimeMillis', suffixes=('_1', '_2'))\n",
    "merged_df = merged_df.dropna()\n",
    "merged_df"
   ]
  },
  {
   "cell_type": "code",
   "execution_count": 43,
   "metadata": {},
   "outputs": [],
   "source": [
    "def haversine(lat1, lon1, lat2, lon2):\n",
    "    R = 6371.0  # Bán kính Trái Đất trung bình bằng km\n",
    "    lat1_rad = math.radians(lat1)\n",
    "    lon1_rad = math.radians(lon1)\n",
    "    lat2_rad = math.radians(lat2)\n",
    "    lon2_rad = math.radians(lon2)\n",
    "    \n",
    "    dlat = lat2_rad - lat1_rad\n",
    "    dlon = lon2_rad - lon1_rad\n",
    "    \n",
    "    a = math.sin(dlat / 2)**2 + math.cos(lat1_rad) * math.cos(lat2_rad) * math.sin(dlon / 2)**2\n",
    "    c = 2 * math.atan2(math.sqrt(a), math.sqrt(1 - a))\n",
    "    \n",
    "    distance = R * c * 1000\n",
    "    return distance"
   ]
  },
  {
   "cell_type": "code",
   "execution_count": 44,
   "metadata": {},
   "outputs": [
    {
     "data": {
      "text/plain": [
       "14.56804970067181"
      ]
     },
     "execution_count": 44,
     "metadata": {},
     "output_type": "execute_result"
    }
   ],
   "source": [
    "merged_df['Distance'] = merged_df.apply(lambda row: haversine(row['Latitude_1'], row['Longitude_1'], row['Latitude_2'], row['Longitude_2']), axis=1)\n",
    "merged_df.to_csv('distance.csv')\n",
    "mean_distance = merged_df['Distance'].mean()\n",
    "mean_distance"
   ]
  }
 ],
 "metadata": {
  "kernelspec": {
   "display_name": "Python 3.11.8 64-bit",
   "language": "python",
   "name": "python3"
  },
  "language_info": {
   "codemirror_mode": {
    "name": "ipython",
    "version": 3
   },
   "file_extension": ".py",
   "mimetype": "text/x-python",
   "name": "python",
   "nbconvert_exporter": "python",
   "pygments_lexer": "ipython3",
   "version": "3.11.8"
  },
  "orig_nbformat": 4,
  "vscode": {
   "interpreter": {
    "hash": "72b2382ece9768098284d92bbc69d35954e75b60d1e25897d1389c232f4796f0"
   }
  }
 },
 "nbformat": 4,
 "nbformat_minor": 2
}
