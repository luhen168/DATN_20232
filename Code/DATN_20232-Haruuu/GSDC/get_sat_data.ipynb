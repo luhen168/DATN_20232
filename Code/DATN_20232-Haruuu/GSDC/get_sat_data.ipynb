{
 "cells": [
  {
   "cell_type": "code",
   "execution_count": null,
   "metadata": {},
   "outputs": [
    {
     "ename": "",
     "evalue": "",
     "output_type": "error",
     "traceback": [
      "\u001b[1;31mFailed to start the Kernel 'Python 3.12.0'. \n",
      "\u001b[1;31mView Jupyter <a href='command:jupyter.viewOutput'>log</a> for further details. WebSocket is not defined"
     ]
    }
   ],
   "source": [
    "from tqdm.notebook import tqdm\n",
    "from dataclasses import dataclass\n",
    "from scipy.interpolate import InterpolatedUnivariateSpline\n",
    "from datetime import datetime, timezone, timedelta\n",
    "from libWLS import WLS\n",
    "from kalman_filter import kalman_smoothing\n",
    "from tqdm.auto import tqdm\n",
    "from scipy.spatial import distance\n",
    "from time import time \n",
    "from pathlib import Path\n",
    "import pandas as pd\n",
    "import pymap3d as pm\n",
    "import pymap3d.vincenty as pmv\n",
    "import glob as gl\n",
    "import numpy as np\n",
    "import scipy.optimize\n",
    "import numpy as np  \n",
    "import pandas as pd \n",
    "import os, csv, sys\n",
    "import glob\n",
    "import subprocess\n",
    "import navpy\n",
    "\n",
    "# Constants\n",
    "CLIGHT = 299_792_458   # speed of light (m/s)\n",
    "RE_WGS84 = 6_378_137   # earth semimajor axis (WGS84) (m)\n",
    "OMGE = 7.2921151467E-5  # earth angular velocity (IS-GPS) (rad/s)\n",
    "\n",
    "folder_path = os.path.abspath('gnss_analysis')\n",
    "sys.path.append(folder_path)\n",
    "from gnssutils import EphemerisManager\n"
   ]
  },
  {
   "cell_type": "code",
   "execution_count": null,
   "metadata": {},
   "outputs": [
    {
     "ename": "",
     "evalue": "",
     "output_type": "error",
     "traceback": [
      "\u001b[1;31mFailed to start the Kernel 'Python 3.12.0'. \n",
      "\u001b[1;31mView Jupyter <a href='command:jupyter.viewOutput'>log</a> for further details. WebSocket is not defined"
     ]
    }
   ],
   "source": [
    "path = 'gnss_2024_06_08_13_33_sat.csv'\n",
    "gnss = pd.read_csv(path, index_col=False)\n",
    "filtered_gnss = gnss[gnss['ReceivedSvTimeNanos'] > 1e10]\n",
    "measurement = filtered_gnss"
   ]
  },
  {
   "cell_type": "code",
   "execution_count": null,
   "metadata": {},
   "outputs": [
    {
     "ename": "",
     "evalue": "",
     "output_type": "error",
     "traceback": [
      "\u001b[1;31mFailed to start the Kernel 'Python 3.12.0'. \n",
      "\u001b[1;31mView Jupyter <a href='command:jupyter.viewOutput'>log</a> for further details. WebSocket is not defined"
     ]
    }
   ],
   "source": [
    "# Lọc các vệ tinh thuộc GPS (ConstellationType == 1)\n",
    "# Loc cac ve tinh co Multipath\n",
    "measurement.loc[measurement['ConstellationType'] == 1, 'Constellation'] = 'G'\n",
    "\n",
    "measurement = measurement.loc[measurement['MultipathIndicator'] == 0]\n",
    "\n",
    "measurement = measurement.loc[measurement['ReceivedSvTimeUncertaintyNanos'] < 100]\n",
    "\n",
    "# Chỉ lấy các vệ tinh bắt GPS\n",
    "measurement = measurement.loc[measurement['Constellation'] == 'G']\n",
    "# Đảm bảo cột 'Svid' là chuỗi ký tự để có thể sử dụng hàm str.len()\n",
    "measurement['Svid'] = measurement['Svid'].astype(str)\n",
    "# Thêm số 0 vào trước 'Svid' nếu chiều dài của nó là 1\n",
    "measurement.loc[measurement['Svid'].str.len() == 1, 'Svid'] = '0' + measurement['Svid']\n",
    "# Tạo cột mới 'SvName' bằng cách nối 'Constellation' và 'Svid'\n",
    "measurement['SvName'] = measurement['Constellation'] + measurement['Svid']\n",
    "\n",
    "measurement = measurement.loc[measurement['CarrierFrequencyHz'] > 1275420030]\n",
    "\n",
    "measurement"
   ]
  },
  {
   "cell_type": "code",
   "execution_count": null,
   "metadata": {},
   "outputs": [
    {
     "ename": "",
     "evalue": "",
     "output_type": "error",
     "traceback": [
      "\u001b[1;31mFailed to start the Kernel 'Python 3.12.0'. \n",
      "\u001b[1;31mView Jupyter <a href='command:jupyter.viewOutput'>log</a> for further details. WebSocket is not defined"
     ]
    }
   ],
   "source": [
    "#chuyển giá trị thời gian về dạng date time\n",
    "measurement['UnixTime'] = pd.to_datetime(measurement['utcTimeMillis'],unit='ms', utc=True)\n",
    "#Chia measurement thành các epoch, mỗi epoch gồm các vệ tinh có cùng thời gian thu\n",
    "measurement['Epoch'] = 0\n",
    "measurement.loc[measurement['UnixTime'] - measurement['UnixTime'].shift() > timedelta(milliseconds=200), 'Epoch'] = 1\n",
    "measurement['Epoch'] = measurement['Epoch'].cumsum()\n",
    "measurement"
   ]
  },
  {
   "cell_type": "code",
   "execution_count": null,
   "metadata": {},
   "outputs": [
    {
     "ename": "",
     "evalue": "",
     "output_type": "error",
     "traceback": [
      "\u001b[1;31mFailed to start the Kernel 'Python 3.12.0'. \n",
      "\u001b[1;31mView Jupyter <a href='command:jupyter.viewOutput'>log</a> for further details. WebSocket is not defined"
     ]
    }
   ],
   "source": [
    "# Khởi tạo biến để lưu trữ kết quả\n",
    "filtered_measurement = pd.DataFrame()\n",
    "\n",
    "# Duyệt qua từng epoch\n",
    "for epoch in measurement['Epoch'].unique():\n",
    "    one_epoch = measurement.loc[measurement['Epoch'] == epoch].drop_duplicates(subset='SvName')\n",
    "    # Thêm kết quả vào DataFrame kết quả\n",
    "    filtered_measurement = pd.concat([filtered_measurement, one_epoch])\n",
    "\n",
    "# Reset index của DataFrame mới\n",
    "filtered_measurement.reset_index(drop=True, inplace=True)\n",
    "filtered_measurement = filtered_measurement.groupby('Epoch').apply(lambda x: x.sort_values(by='Svid')).reset_index(drop=True)\n",
    "measurement = filtered_measurement\n",
    "measurement.head(20)"
   ]
  },
  {
   "cell_type": "code",
   "execution_count": null,
   "metadata": {},
   "outputs": [
    {
     "ename": "",
     "evalue": "",
     "output_type": "error",
     "traceback": [
      "\u001b[1;31mFailed to start the Kernel 'Python 3.12.0'. \n",
      "\u001b[1;31mView Jupyter <a href='command:jupyter.viewOutput'>log</a> for further details. WebSocket is not defined"
     ]
    }
   ],
   "source": [
    "#lấy dữ liệu ephemeris\n",
    "ephemeris_data_directory = 'output'\n",
    "manager = EphemerisManager(ephemeris_data_directory)\n",
    "\n",
    "# while num_sat < 4:\n",
    "#     one_epoch = measurement.loc[measurement['Epoch'] == epoch].drop_duplicates(subset='SvName')\n",
    "    \n",
    "#     if not one_epoch.empty:\n",
    "#         timestamp = pd.to_datetime(one_epoch.iloc[0]['UnixTime'], unit='s')\n",
    "#         one_epoch.set_index('SvName', inplace=True)\n",
    "#         num_sat = len(one_epoch.index)\n",
    "    \n",
    "#     epoch += 1\n",
    "\n",
    "measurement['UnixTime'] = pd.to_datetime(measurement['utcTimeMillis'],unit='ms', utc=True)\n",
    "timestamps = pd.to_datetime(measurement['UnixTime'].unique(),unit='s')\n",
    "ephemeris_data = pd.DataFrame()\n",
    "\n",
    "for timestamp in timestamps:\n",
    "    # Get satellite names for the current timestamp\n",
    "    sats = measurement.loc[measurement['UnixTime'] == timestamp, 'SvName'].tolist()\n",
    "    # Retrieve ephemeris data\n",
    "    ephemeris = manager.get_ephemeris(timestamp, sats)\n",
    "    # Append the retrieved ephemeris data to the list\n",
    "    ephemeris_data = pd.concat([ephemeris_data,ephemeris])\n",
    "\n",
    "#ephemeris = manager.get_ephemeris(timestamp, sats)\n",
    "#timestamp\n",
    "ephemeris_data.reset_index(drop=True, inplace=True)\n",
    "ephemeris_data.head(20)"
   ]
  },
  {
   "cell_type": "code",
   "execution_count": null,
   "metadata": {},
   "outputs": [
    {
     "ename": "",
     "evalue": "",
     "output_type": "error",
     "traceback": [
      "\u001b[1;31mFailed to start the Kernel 'Python 3.12.0'. \n",
      "\u001b[1;31mView Jupyter <a href='command:jupyter.viewOutput'>log</a> for further details. WebSocket is not defined"
     ]
    }
   ],
   "source": [
    "LIGHTSPEED = 2.99792458e8\n",
    "\n",
    "def calculate_satellite_position(ephemeris, transmit_time):\n",
    "    mu = 3.986005e14\n",
    "    OmegaDot_e = 7.2921151467e-5\n",
    "    F = -4.442807633e-10\n",
    "    sv_position = pd.DataFrame()\n",
    "    sv_position['sv']= ephemeris.index\n",
    "    sv_position.set_index('sv', inplace=True)\n",
    "    sv_position['t_k'] = transmit_time - ephemeris['t_oe']\n",
    "    A = ephemeris['sqrtA'].pow(2)\n",
    "    n_0 = np.sqrt(mu / A.pow(3))\n",
    "    n = n_0 + ephemeris['deltaN']\n",
    "    M_k = ephemeris['M_0'] + n * sv_position['t_k']\n",
    "    E_k = M_k\n",
    "    err = pd.Series(data=[1]*len(sv_position.index))\n",
    "    i = 0\n",
    "    while err.abs().min() > 1e-8 and i < 10:\n",
    "        new_vals = M_k + ephemeris['e']*np.sin(E_k)\n",
    "        err = new_vals - E_k\n",
    "        E_k = new_vals\n",
    "        i += 1\n",
    "        \n",
    "    sinE_k = np.sin(E_k)\n",
    "    cosE_k = np.cos(E_k)\n",
    "    delT_r = F * ephemeris['e'].pow(ephemeris['sqrtA']) * sinE_k\n",
    "    delT_oc = transmit_time - ephemeris['t_oc']\n",
    "    sv_position['delT_sv'] = ephemeris['SVclockBias'] + ephemeris['SVclockDrift'] * delT_oc + ephemeris['SVclockDriftRate'] * delT_oc.pow(2)\n",
    "\n",
    "    v_k = np.arctan2(np.sqrt(1-ephemeris['e'].pow(2))*sinE_k,(cosE_k - ephemeris['e']))\n",
    "\n",
    "    Phi_k = v_k + ephemeris['omega']\n",
    "\n",
    "    sin2Phi_k = np.sin(2*Phi_k)\n",
    "    cos2Phi_k = np.cos(2*Phi_k)\n",
    "\n",
    "    du_k = ephemeris['C_us']*sin2Phi_k + ephemeris['C_uc']*cos2Phi_k\n",
    "    dr_k = ephemeris['C_rs']*sin2Phi_k + ephemeris['C_rc']*cos2Phi_k\n",
    "    di_k = ephemeris['C_is']*sin2Phi_k + ephemeris['C_ic']*cos2Phi_k\n",
    "\n",
    "    u_k = Phi_k + du_k\n",
    "\n",
    "    r_k = A*(1 - ephemeris['e']*np.cos(E_k)) + dr_k\n",
    "\n",
    "    i_k = ephemeris['i_0'] + di_k + ephemeris['IDOT']*sv_position['t_k']\n",
    "\n",
    "    x_k_prime = r_k*np.cos(u_k)\n",
    "    y_k_prime = r_k*np.sin(u_k)\n",
    "\n",
    "    Omega_k = ephemeris['Omega_0'] + (ephemeris['OmegaDot'] - OmegaDot_e)*sv_position['t_k'] - OmegaDot_e*ephemeris['t_oe']\n",
    "\n",
    "    sv_position['x_k'] = x_k_prime*np.cos(Omega_k) - y_k_prime*np.cos(i_k)*np.sin(Omega_k)\n",
    "    sv_position['y_k'] = x_k_prime*np.sin(Omega_k) + y_k_prime*np.cos(i_k)*np.cos(Omega_k)\n",
    "    sv_position['z_k'] = y_k_prime*np.sin(i_k)\n",
    "    sv_position['SvClockBiasMeters'] = ephemeris['SVclockBias'] * LIGHTSPEED\n",
    "    sv_position['SvClockDriftMetersPerSecond'] = ephemeris['SVclockDrift'] * LIGHTSPEED\n",
    "\n",
    "    #calculate velocity\n",
    "    Edot_k = n_0/(1-ephemeris['e']*np.cos(E_k))\n",
    "    \n",
    "    vdot_k = Edot_k * np.sqrt(1 - ephemeris['e']**2)/(1 - ephemeris['e']*np.cos(E_k))\n",
    "    \n",
    "    d_idotk = ephemeris['IDOT'] + 2 * vdot_k * (ephemeris['C_is'] * cos2Phi_k - ephemeris['C_ic']*sin2Phi_k)\n",
    "    \n",
    "    udot_k = vdot_k + 2 * vdot_k * (ephemeris['C_us']*cos2Phi_k - ephemeris['C_uc']*sin2Phi_k)\n",
    "    \n",
    "    rdot_k = ephemeris['e'] * A * Edot_k * np.sin(E_k) + 2 * vdot_k * (ephemeris['C_rs'] * cos2Phi_k - ephemeris['C_rc'] * sin2Phi_k)\n",
    "    \n",
    "    Omegadot_k = ephemeris['OmegaDot'] - OmegaDot_e\n",
    "    \n",
    "    x_plus_dot_k = rdot_k * np.cos(u_k) - r_k * udot_k*np.sin(u_k)\n",
    "    y_plus_dot_k = rdot_k * np.sin(u_k) + r_k * udot_k*np.cos(u_k)\n",
    "    \n",
    "    sv_position['v_x'] = -x_k_prime * Omegadot_k * np.sin(Omega_k) + x_plus_dot_k * np.cos(Omega_k) - y_plus_dot_k * np.sin(Omega_k)*np.cos(i_k) - y_k_prime * (Omegadot_k * np.cos(Omega_k) * np.cos(i_k) - d_idotk * np.sin(Omega_k)*np.sin(i_k))\n",
    "    \n",
    "    sv_position['v_y'] = x_k_prime * Omegadot_k * np.cos(Omega_k) + x_plus_dot_k * np.sin(Omega_k) + y_plus_dot_k * np.cos(Omega_k)*np.cos(i_k) - y_k_prime * (Omegadot_k * np.sin(Omega_k) * np.cos(i_k) + d_idotk * np.cos(Omega_k)*np.sin(i_k))\n",
    "    \n",
    "    sv_position['v_z'] = y_plus_dot_k * np.sin(i_k) + y_k_prime * d_idotk * np.cos(i_k)\n",
    "\n",
    "    return sv_position\n",
    "\n",
    "# Run the function and check out the results:\n",
    "measurement['ReceivedSvTimeNanos'] = pd.to_numeric(measurement['ReceivedSvTimeNanos'])\n",
    "measurement['TimeOffsetNanos'] = pd.to_numeric(measurement['TimeOffsetNanos'])\n",
    "sv_position = calculate_satellite_position(ephemeris_data, (measurement['ReceivedSvTimeNanos'] + measurement['TimeOffsetNanos'])*1e-9)\n",
    "#xs = sv_position[['x_k', 'y_k', 'z_k']].to_numpy()\n",
    "measurement['SvPositionXEcefMeters'] = sv_position['x_k']\n",
    "measurement['SvPositionYEcefMeters'] = sv_position['y_k']\n",
    "measurement['SvPositionZEcefMeters'] = sv_position['z_k']\n",
    "measurement['SvVelocityXEcefMetersPerSecond'] = sv_position['v_x']\n",
    "measurement['SvVelocityYEcefMetersPerSecond'] = sv_position['v_y']\n",
    "measurement['SvVelocityZEcefMetersPerSecond'] = sv_position['v_z']\n",
    "measurement['SvClockBiasMeters'] = sv_position['SvClockBiasMeters']\n",
    "measurement['SvClockDriftMetersPerSecond'] = sv_position['SvClockDriftMetersPerSecond']\n",
    "measurement.head(20)"
   ]
  },
  {
   "cell_type": "code",
   "execution_count": null,
   "metadata": {},
   "outputs": [
    {
     "ename": "",
     "evalue": "",
     "output_type": "error",
     "traceback": [
      "\u001b[1;31mFailed to start the Kernel 'Python 3.12.0'. \n",
      "\u001b[1;31mView Jupyter <a href='command:jupyter.viewOutput'>log</a> for further details. WebSocket is not defined"
     ]
    }
   ],
   "source": [
    "measurement.to_csv('gnss_sat.csv')"
   ]
  },
  {
   "cell_type": "code",
   "execution_count": null,
   "metadata": {},
   "outputs": [
    {
     "ename": "",
     "evalue": "",
     "output_type": "error",
     "traceback": [
      "\u001b[1;31mFailed to start the Kernel 'Python 3.12.0'. \n",
      "\u001b[1;31mView Jupyter <a href='command:jupyter.viewOutput'>log</a> for further details. WebSocket is not defined"
     ]
    }
   ],
   "source": [
    "epoch = 0\n",
    "num_sat = 0\n",
    "\n",
    "while num_sat < 4:\n",
    "    one_epoch = measurement.loc[measurement['Epoch'] == epoch]\n",
    "    if not one_epoch.empty:\n",
    "        one_epoch.set_index('SvName', inplace=True)\n",
    "        num_sat = len(one_epoch.index)\n",
    "    epoch += 1\n",
    "one_epoch"
   ]
  },
  {
   "cell_type": "code",
   "execution_count": null,
   "metadata": {},
   "outputs": [
    {
     "ename": "",
     "evalue": "",
     "output_type": "error",
     "traceback": [
      "\u001b[1;31mFailed to start the Kernel 'Python 3.12.0'. \n",
      "\u001b[1;31mView Jupyter <a href='command:jupyter.viewOutput'>log</a> for further details. WebSocket is not defined"
     ]
    }
   ],
   "source": [
    "# Bắt đầu từ đây là đoạn mã xử lý dữ liệu đã tìm được\n",
    "wls = WLS()\n",
    "ecef_list = []\n",
    "utcTimeMillis_list = []  # Danh sách để lưu giữ utcTimeMillis tương ứng\n",
    "\n",
    "for epoch in measurement['Epoch'].unique():\n",
    "    one_epoch = measurement.loc[(measurement['Epoch'] == epoch)]\n",
    "    if len(one_epoch.index) > 4:\n",
    "        try:\n",
    "            x_wls, v_wls, cov_x, cov_v = wls.WLS_onePosition(one_epoch)  # epoch like period 1s,10s or ....\n",
    "            ecef_list.append((x_wls, v_wls, cov_x, cov_v))  # unit m, m/s and use tuple to store nhiều variable\n",
    "            utcTimeMillis_list.append(one_epoch['utcTimeMillis'].iloc[0])  # Lấy giá trị utcTimeMillis đầu tiên cho epoch này\n",
    "        except Exception as e:\n",
    "            print(f\"Error in WLS_onePosition for epoch {epoch}: {e}\")\n",
    "\n",
    "# Kiểm tra danh sách `utcTimeMillis_list` và `ecef_list`\n",
    "assert len(utcTimeMillis_list) == len(ecef_list), \"The lengths of utcTimeMillis_list and ecef_list do not match\"\n",
    "\n",
    "# Nếu các mảng có kích thước phù hợp, ta có thể stack chúng lại\n",
    "x_wls_array = np.array([x[0] for x in ecef_list])\n",
    "if len(x_wls_array) == 0:\n",
    "    raise ValueError(\"x_wls_array is empty\")\n",
    "\n",
    "# In ra độ dài của các mảng để kiểm tra\n",
    "print(f\"Length of x_wls_array: {len(x_wls_array)}\")\n",
    "print(f\"Length of utcTimeMillis_list: {len(utcTimeMillis_list)}\")\n",
    "\n",
    "# Chuyển đổi từ ECEF sang tọa độ địa lý (latitude, longitude, altitude)\n",
    "try:\n",
    "    lla_array = navpy.ecef2lla(x_wls_array.T)\n",
    "    lla_array = np.array(lla_array).T  # Chuyển đổi thành mảng numpy và chuyển vị\n",
    "except Exception as e:\n",
    "    raise ValueError(f\"Error in converting ECEF to LLA: {e}\")\n",
    "\n",
    "# In ra độ dài của mảng lla_array để kiểm tra\n",
    "print(f\"Length of lla_array: {len(lla_array)}\")\n",
    "\n",
    "# Kiểm tra kích thước của `lla_array` và `utcTimeMillis_list`\n",
    "assert len(lla_array) == len(utcTimeMillis_list), \"The lengths of lla_array and utcTimeMillis_list do not match\"\n",
    "\n",
    "# Tạo DataFrame và lưu thành file CSV\n",
    "position_array = [(time, lat, lon) for time, (lat, lon, alt) in zip(utcTimeMillis_list, lla_array)]\n",
    "lla_df = pd.DataFrame(position_array, columns=['Time', 'Latitude', 'Longitude'])\n",
    "lla_df.to_csv('calculated_position_wls.csv', index=False)\n",
    "\n",
    "print(lla_df.head())\n"
   ]
  },
  {
   "cell_type": "code",
   "execution_count": null,
   "metadata": {},
   "outputs": [
    {
     "ename": "",
     "evalue": "",
     "output_type": "error",
     "traceback": [
      "\u001b[1;31mFailed to start the Kernel 'Python 3.12.0'. \n",
      "\u001b[1;31mView Jupyter <a href='command:jupyter.viewOutput'>log</a> for further details. WebSocket is not defined"
     ]
    }
   ],
   "source": [
    "# # Kalman Filter\n",
    "# # Transistion ecef_list to each array numpy \n",
    "# x_wls = np.array([x[0] for x in ecef_list])\n",
    "# v_wls = np.array([x[1] for x in ecef_list])\n",
    "# cov_x = np.array([x[2] for x in ecef_list])\n",
    "# cov_v = np.array([x[3] for x in ecef_list])\n",
    "# x_kf, P_f = kalman_smoothing(x_wls, v_wls, cov_x, cov_v)\n",
    "# ecef_list.append(x_kf)\n",
    "# print(x_kf)  \n",
    "# Kiểm tra và chuẩn hóa kích thước của các phần tử trong ecef_list\n",
    "# max_len = max(len(x[0]) for x in ecef_list)\n",
    "\n",
    "# # Hàm để chuẩn hóa kích thước của một phần tử\n",
    "# def pad_to_max_len(array, max_len):\n",
    "#     if len(array) < max_len:\n",
    "#         pad_width = max_len - len(array)\n",
    "#         array = np.pad(array, ((0, pad_width), (0, 0)), mode='constant', constant_values=0)\n",
    "#     return array\n",
    "\n",
    "# ecef_list_padded = [(pad_to_max_len(x[0], max_len), pad_to_max_len(x[1], max_len), pad_to_max_len(x[2], max_len), pad_to_max_len(x[3], max_len)) for x in ecef_list]\n",
    "\n",
    "# Chuyển đổi ecef_list thành các mảng numpy riêng lẻ\n",
    "# x_wls = np.array([x[0] for x in ecef_list_padded])\n",
    "# v_wls = np.array([x[1] for x in ecef_list_padded])\n",
    "# cov_x = np.array([x[2] for x in ecef_list_padded])\n",
    "# cov_v = np.array([x[3] for x in ecef_list_padded])\n",
    "\n",
    "# x_wls = np.array([x[0] for x in ecef_list])\n",
    "# v_wls = np.array([x[1] for x in ecef_list])\n",
    "# cov_x = np.array([x[2] for x in ecef_list])\n",
    "# cov_v = np.array([x[3] for x in ecef_list])\n",
    "# # Áp dụng Kalman Filter\n",
    "# x_kf, P_f = kalman_smoothing(x_wls, v_wls, cov_x, cov_v)\n",
    "# ecef_list.append(x_kf)\n",
    "# print(x_kf, P_f)  # In ra giá trị ước lượng vị trí\n",
    "\n"
   ]
  },
  {
   "cell_type": "code",
   "execution_count": null,
   "metadata": {},
   "outputs": [
    {
     "ename": "",
     "evalue": "",
     "output_type": "error",
     "traceback": [
      "\u001b[1;31mFailed to start the Kernel 'Python 3.12.0'. \n",
      "\u001b[1;31mView Jupyter <a href='command:jupyter.viewOutput'>log</a> for further details. WebSocket is not defined"
     ]
    }
   ],
   "source": [
    "\n",
    "# Kiểm tra cấu trúc dữ liệu trong ecef_list và loại bỏ các epoch có kích thước không đồng nhất\n",
    "filtered_ecef_list = []\n",
    "filtered_utcTimeMillis_list = []\n",
    "\n",
    "for i, ecef in enumerate(ecef_list):\n",
    "    if ecef[2].shape == (3, 3) and ecef[3].shape == (3, 3):\n",
    "        filtered_ecef_list.append(ecef)\n",
    "        filtered_utcTimeMillis_list.append(utcTimeMillis_list[i])\n",
    "    else:\n",
    "        print(f\"Skipping Epoch {i} due to inconsistent shape: cov_x shape = {ecef[2].shape}, cov_v shape = {ecef[3].shape}\")\n",
    "\n",
    "# Nếu các mảng có kích thước phù hợp, ta có thể stack chúng lại\n",
    "x_wls = np.array([x[0] for x in filtered_ecef_list])\n",
    "v_wls = np.array([x[1] for x in filtered_ecef_list])\n",
    "cov_x = np.array([x[2] for x in filtered_ecef_list])\n",
    "cov_v = np.array([x[3] for x in filtered_ecef_list])\n",
    "\n",
    "# Áp dụng Kalman Filter\n",
    "try:\n",
    "    x_wls, v_wls, cov_x, cov_v = exclude_interpolate_outlier(x_wls, v_wls, cov_x, cov_v)\n",
    "    x_kf, P_f = kalman_smoothing(x_wls, v_wls, cov_x, cov_v)\n",
    "    print(x_kf, P_f)  # In ra giá trị ước lượng vị trí\n",
    "\n",
    "    # Chuyển đổi kết quả Kalman Filter từ ECEF sang tọa độ địa lý\n",
    "    try:\n",
    "        lla_kf = navpy.ecef2lla(x_kf.T)\n",
    "        lla_kf = np.array(lla_kf).T  # Chuyển đổi thành mảng numpy và chuyển vị\n",
    "    except Exception as e:\n",
    "        raise ValueError(f\"Error in converting ECEF to LLA for Kalman Filter results: {e}\")\n",
    "\n",
    "    # Tạo DataFrame và in ra kết quả Time, Latitude, Longitude sau khi áp dụng Kalman Filter\n",
    "    kf_position_array = [(time, lat, lon) for time, (lat, lon, alt) in zip(filtered_utcTimeMillis_list, lla_kf)]\n",
    "    kf_df = pd.DataFrame(kf_position_array, columns=['utcTimeMillis', 'Latitude', 'Longitude'])\n",
    "    print(kf_df.head())\n",
    "\n",
    "    # Lưu kết quả sau khi áp dụng Kalman Filter thành file CSV\n",
    "    kf_df.to_csv('kf_position_data.csv', index=False)\n",
    "except Exception as e:\n",
    "    print(f\"Error during Kalman Filter application: {e}\")\n"
   ]
  }
 ],
 "metadata": {
  "kernelspec": {
   "display_name": "Python 3.11.8 64-bit",
   "language": "python",
   "name": "python3"
  },
  "language_info": {
   "codemirror_mode": {
    "name": "ipython",
    "version": 3
   },
   "file_extension": ".py",
   "mimetype": "text/x-python",
   "name": "python",
   "nbconvert_exporter": "python",
   "pygments_lexer": "ipython3",
   "version": "3.12.0"
  },
  "orig_nbformat": 4,
  "vscode": {
   "interpreter": {
    "hash": "72b2382ece9768098284d92bbc69d35954e75b60d1e25897d1389c232f4796f0"
   }
  }
 },
 "nbformat": 4,
 "nbformat_minor": 2
}
