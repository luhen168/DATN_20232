    sensor_fusion.load_data()
    sensor_fusion.gps_to_utm()

    # Tính toán và gỡ bỏ sai số IMU
    angular_velocity_bias, linear_acceleration_bias, first_valid_index = sensor_fusion.compute_imu_biases(sensor_fusion.gps_data, sensor_fusion.imu_data)
    sensor_fusion.unbias_imu_data(angular_velocity_bias, linear_acceleration_bias)

    # Kết hợp dữ liệu GPS và IMU và sắp xếp theo timestamp
    sensor_fusion.combine_sensor_data()

    # Các bước tiếp theo của xử lý và phân tích dữ liệu...
    # Plot raw GPS data
    sensor_fusion.plot_gps_data()

    # Run Kalman filter for sensor fusion
    sf_KF_state = sensor_fusion.run_kalman_filter()

    # Plot the estimated states from the Kalman filter against GPS data
    sensor_fusion.plot_kf_states(sf_KF_state)

    # Run dead reckoning for IMU data
    deadreckoned_IMU_estimates = sensor_fusion.run_dead_reckoning_for_IMU()

    # Plot dead-reckoned IMU estimates against raw GPS data
    sensor_fusion.plot_deadreckoned_imu_with_gps(deadreckoned_IMU_estimates)

    # Plot theta comparisons
    sensor_fusion.plot_theta_comparisons(sf_KF_state, deadreckoned_IMU_estimates)