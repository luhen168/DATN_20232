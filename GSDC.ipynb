{
 "cells": [
  {
   "cell_type": "code",
   "execution_count": 1,
   "metadata": {},
   "outputs": [
    {
     "name": "stdout",
     "output_type": "stream",
     "text": [
      "3.393680912876309\n",
      "9.898703033228664\n",
      "4.193411881638721\n",
      "5.660691311719633\n",
      "2.882987986496806\n",
      "2.6024552501701623\n",
      "2.962780648428545\n",
      "6.873294144240059\n",
      "5.760180561352377\n",
      "46.51960263697556\n",
      "4.553374814620029\n",
      "2.767794566529794\n",
      "42.128479621124555\n",
      "4.001404716418803\n",
      "2.5660602896329467\n",
      "4.6850818988744605\n",
      "19.68376059327913\n",
      "3.7233887631364904\n",
      "8.451040159466997\n",
      "2.980568780015648\n",
      "2.941282949217142\n",
      "3.1668653333745005\n",
      "10.836084247376096\n",
      "12.320102516678105\n",
      "38.92690214491316\n",
      "3.3936809103007914\n",
      "6.873294155090015\n",
      "6.084544377629336\n",
      "3.7233887642956818\n",
      "8.451040141004283\n"
     ]
    }
   ],
   "source": [
    "import numpy as np  \n",
    "import math\n",
    "import pandas as pd \n",
    "import os, csv, sys\n",
    "import glob\n",
    "import subprocess\n",
    "from tqdm.notebook import tqdm\n",
    "from dataclasses import dataclass\n",
    "from scipy.interpolate import InterpolatedUnivariateSpline\n",
    "from datetime import datetime, timezone, timedelta\n",
    "from sklearn.metrics import mean_squared_error \n",
    "\n",
    "folder_path = os.path.abspath('gnss_analysis')\n",
    "sys.path.append(folder_path)\n",
    "from gnssutils import EphemerisManager,WLS,Troposphere,Ionosphere,ElevationAzimuthAngle"
   ]
  },
  {
   "cell_type": "code",
   "execution_count": 2,
   "metadata": {},
   "outputs": [],
   "source": [
    "#define constance\n",
    "LIGHTSPEED = 299_792_458"
   ]
  },
  {
   "cell_type": "markdown",
   "metadata": {},
   "source": [
    "Data"
   ]
  },
  {
   "cell_type": "code",
   "execution_count": 3,
   "metadata": {},
   "outputs": [],
   "source": [
    "path = 'device_gnss_2020_6.csv'\n",
    "gnss = pd.read_csv(path, index_col=False)\n",
    "filtered_gnss = gnss[gnss['ReceivedSvTimeNanos'] > 1e10]\n",
    "selected_col = ['ConstellationType','Svid','utcTimeMillis','ReceivedSvTimeNanos','TimeOffsetNanos','IsrbMeters',\n",
    "                'RawPseudorangeMeters','Cn0DbHz','MultipathIndicator','RawPseudorangeUncertaintyMeters']\n",
    "measurement = filtered_gnss[selected_col]\n",
    "truth = gnss[gnss['ReceivedSvTimeNanos'] > 1e10]\n"
   ]
  },
  {
   "cell_type": "code",
   "execution_count": 4,
   "metadata": {},
   "outputs": [
    {
     "name": "stderr",
     "output_type": "stream",
     "text": [
      "C:\\Users\\ductm\\AppData\\Local\\Temp\\ipykernel_4404\\1394250255.py:2: SettingWithCopyWarning: \n",
      "A value is trying to be set on a copy of a slice from a DataFrame.\n",
      "Try using .loc[row_indexer,col_indexer] = value instead\n",
      "\n",
      "See the caveats in the documentation: https://pandas.pydata.org/pandas-docs/stable/user_guide/indexing.html#returning-a-view-versus-a-copy\n",
      "  measurement.loc[measurement['ConstellationType'] == 1, 'Constellation'] = 'G'\n"
     ]
    }
   ],
   "source": [
    "# Lọc các vệ tinh thuộc GPS (ConstellationType == 1)\n",
    "measurement.loc[measurement['ConstellationType'] == 1, 'Constellation'] = 'G'\n",
    "truth.loc[truth['ConstellationType'] == 1, 'Constellation'] = 'G'\n",
    "# Chỉ lấy các vệ tinh bắt GPS\n",
    "measurement = measurement.loc[measurement['Constellation'] == 'G']\n",
    "truth = truth.loc[truth['Constellation'] == 'G']\n",
    "# Đảm bảo cột 'Svid' là chuỗi ký tự để có thể sử dụng hàm str.len()\n",
    "measurement['Svid'] = measurement['Svid'].astype(str)\n",
    "truth['Svid'] = truth['Svid'].astype(str)\n",
    "# Thêm số 0 vào trước 'Svid' nếu chiều dài của nó là 1\n",
    "measurement.loc[measurement['Svid'].str.len() == 1, 'Svid'] = '0' + measurement['Svid']\n",
    "truth.loc[truth['Svid'].str.len() == 1, 'Svid'] = '0' + truth['Svid']\n",
    "# Tạo cột mới 'SvName' bằng cách nối 'Constellation' và 'Svid'\n",
    "measurement['SvName'] = measurement['Constellation'] + measurement['Svid']\n",
    "truth['SvName'] = truth['Constellation'] + truth['Svid']\n",
    "\n"
   ]
  },
  {
   "cell_type": "code",
   "execution_count": 5,
   "metadata": {},
   "outputs": [],
   "source": [
    "#chuyển giá trị thời gian về dạng date time\n",
    "measurement['UnixTime'] = pd.to_datetime(measurement['utcTimeMillis'],unit='ms', utc=True)\n",
    "#Chia measurement thành các epoch, mỗi epoch gồm các vệ tinh có cùng thời gian thu\n",
    "measurement['Epoch'] = 0\n",
    "measurement.loc[measurement['UnixTime'] - measurement['UnixTime'].shift() > timedelta(milliseconds=200), 'Epoch'] = 1\n",
    "measurement['Epoch'] = measurement['Epoch'].cumsum()"
   ]
  },
  {
   "cell_type": "code",
   "execution_count": 6,
   "metadata": {},
   "outputs": [],
   "source": [
    "#chuyển giá trị thời gian về dạng date time\n",
    "truth['UnixTime'] = pd.to_datetime(truth['utcTimeMillis'],unit='ms', utc=True)\n",
    "#Chia measurement thành các epoch, mỗi epoch gồm các vệ tinh có cùng thời gian thu\n",
    "truth['Epoch'] = 0\n",
    "truth.loc[truth['UnixTime'] - truth['UnixTime'].shift() > timedelta(milliseconds=200), 'Epoch'] = 1\n",
    "truth['Epoch'] = truth['Epoch'].cumsum()"
   ]
  },
  {
   "cell_type": "code",
   "execution_count": 7,
   "metadata": {},
   "outputs": [],
   "source": [
    "# Khởi tạo biến để lưu trữ kết quả\n",
    "filtered_measurement = pd.DataFrame()\n",
    "\n",
    "# Duyệt qua từng epoch\n",
    "for epoch in measurement['Epoch'].unique():\n",
    "    one_epoch = measurement.loc[measurement['Epoch'] == epoch].drop_duplicates(subset='SvName')\n",
    "    # Thêm kết quả vào DataFrame kết quả\n",
    "    filtered_measurement = pd.concat([filtered_measurement, one_epoch])\n",
    "\n",
    "# Reset index của DataFrame mới\n",
    "filtered_measurement.reset_index(drop=True, inplace=True)\n",
    "filtered_measurement = filtered_measurement.groupby('Epoch').apply(lambda x: x.sort_values(by='Svid')).reset_index(drop=True)\n",
    "measurement = filtered_measurement"
   ]
  },
  {
   "cell_type": "code",
   "execution_count": 8,
   "metadata": {},
   "outputs": [],
   "source": [
    "# Khởi tạo biến để lưu trữ kết quả\n",
    "filtered_measurement1 = pd.DataFrame()\n",
    "\n",
    "# Duyệt qua từng epoch\n",
    "for epoch in truth['Epoch'].unique():\n",
    "    one_epoch = truth.loc[truth['Epoch'] == epoch].drop_duplicates(subset='SvName')\n",
    "    # Thêm kết quả vào DataFrame kết quả\n",
    "    filtered_measurement1 = pd.concat([filtered_measurement1, one_epoch])\n",
    "\n",
    "# Reset index của DataFrame mới\n",
    "filtered_measurement1.reset_index(drop=True, inplace=True)\n",
    "filtered_measurement1 = filtered_measurement1.groupby('Epoch').apply(lambda x: x.sort_values(by='Svid')).reset_index(drop=True)\n",
    "truth = filtered_measurement1\n"
   ]
  },
  {
   "cell_type": "code",
   "execution_count": 9,
   "metadata": {},
   "outputs": [],
   "source": [
    "#lấy dữ liệu ephemeris\n",
    "ephemeris_data_directory = 'output'\n",
    "manager = EphemerisManager(ephemeris_data_directory)\n",
    "\n",
    "measurement['UnixTime'] = pd.to_datetime(measurement['utcTimeMillis'],unit='ms', utc=True)\n",
    "timestamps = pd.to_datetime(measurement['UnixTime'].unique(),unit='s')\n",
    "ephemeris_data = pd.DataFrame()\n",
    "\n",
    "for timestamp in timestamps:\n",
    "    # Get satellite names for the current timestamp\n",
    "    sats = measurement.loc[measurement['UnixTime'] == timestamp, 'SvName'].tolist()\n",
    "    # Retrieve ephemeris data\n",
    "    ephemeris = manager.get_ephemeris(timestamp, sats)\n",
    "    # Append the retrieved ephemeris data to the list\n",
    "    ephemeris_data = pd.concat([ephemeris_data,ephemeris])\n",
    "\n",
    "ephemeris_data.reset_index(drop=True, inplace=True)"
   ]
  },
  {
   "cell_type": "markdown",
   "metadata": {},
   "source": [
    "Tính toán svPosition và svVelocity"
   ]
  },
  {
   "cell_type": "code",
   "execution_count": 10,
   "metadata": {},
   "outputs": [],
   "source": [
    "def calculate_satellite_position_in_GPS(ephemeris, transmit_time):\n",
    "    mu = 3.986005e14\n",
    "    OmegaDot_e = 7.2921151467e-5\n",
    "    # F = -4.442807633e-10\n",
    "    sv_position = pd.DataFrame()\n",
    "    sv_position['sv']= ephemeris.index\n",
    "    sv_position.set_index('sv', inplace=True)\n",
    "    sv_position['t_k'] = transmit_time - ephemeris['t_oe']\n",
    "    A = ephemeris['sqrtA'].pow(2)\n",
    "    n_0 = np.sqrt(mu / A.pow(3))\n",
    "    n = n_0 + ephemeris['deltaN']\n",
    "    M_k = ephemeris['M_0'] + n * sv_position['t_k']\n",
    "    E_k = M_k\n",
    "    err = pd.Series(data=[1]*len(sv_position.index))\n",
    "    i = 0\n",
    "    \n",
    "    # Eccentric anomaly\n",
    "    while err.abs().min() > 1e-8 and i < 10:\n",
    "        new_vals = E_k + (M_k - E_k + ephemeris['e']*np.sin(E_k))/(1 - ephemeris['e'] * np.cos(E_k))\n",
    "        err = new_vals - E_k\n",
    "        E_k = new_vals\n",
    "        i += 1\n",
    "        \n",
    "    # delT_r = F * ephemeris['e'].pow(ephemeris['sqrtA']) * sinE_k\n",
    "    # delT_oc = transmit_time - ephemeris['t_oc']\n",
    "    # sv_position['delT_sv'] = ephemeris['SVclockBias'] + ephemeris['SVclockDrift'] * delT_oc + ephemeris['SVclockDriftRate'] * delT_oc.pow(2)\n",
    "\n",
    "    v_k = 2 * np.arctan(np.sqrt((1 + ephemeris['e'])/(1 - ephemeris['e'])) * np.tan(E_k/2))\n",
    "\n",
    "    Phi_k = v_k + ephemeris['omega']\n",
    "\n",
    "    sin2Phi_k = np.sin(2*Phi_k)\n",
    "    cos2Phi_k = np.cos(2*Phi_k)\n",
    "\n",
    "    du_k = ephemeris['C_us']*sin2Phi_k + ephemeris['C_uc']*cos2Phi_k\n",
    "    dr_k = ephemeris['C_rs']*sin2Phi_k + ephemeris['C_rc']*cos2Phi_k\n",
    "    di_k = ephemeris['C_is']*sin2Phi_k + ephemeris['C_ic']*cos2Phi_k\n",
    "\n",
    "    u_k = Phi_k + du_k\n",
    "\n",
    "    r_k = A*(1 - ephemeris['e']*np.cos(E_k)) + dr_k\n",
    "\n",
    "    i_k = ephemeris['i_0'] + di_k + ephemeris['IDOT']*sv_position['t_k']\n",
    "\n",
    "    x_k_prime = r_k*np.cos(u_k)\n",
    "    y_k_prime = r_k*np.sin(u_k)\n",
    "\n",
    "    Omega_k = ephemeris['Omega_0'] + (ephemeris['OmegaDot'] - OmegaDot_e)*sv_position['t_k'] - OmegaDot_e*ephemeris['t_oe']\n",
    "\n",
    "    sv_position['x_k'] = x_k_prime*np.cos(Omega_k) - y_k_prime*np.cos(i_k)*np.sin(Omega_k)\n",
    "    sv_position['y_k'] = x_k_prime*np.sin(Omega_k) + y_k_prime*np.cos(i_k)*np.cos(Omega_k)\n",
    "    sv_position['z_k'] = y_k_prime*np.sin(i_k)\n",
    "    sv_position['SvClockBiasMeters'] = ephemeris['SVclockBias'] * LIGHTSPEED\n",
    "    sv_position['SvClockDriftMetersPerSecond'] = ephemeris['SVclockDrift'] * LIGHTSPEED\n",
    "    \n",
    "    #calculate velocuty\n",
    "    Edot_k = n_0/(1-ephemeris['e']*np.cos(E_k))\n",
    "    \n",
    "    vdot_k = Edot_k * np.sqrt(1 - ephemeris['e']**2)/(1 - ephemeris['e']*np.cos(E_k))\n",
    "    \n",
    "    d_idotk = ephemeris['IDOT'] + 2 * vdot_k * (ephemeris['C_is'] * cos2Phi_k - ephemeris['C_ic']*sin2Phi_k)\n",
    "    \n",
    "    udot_k = vdot_k + 2 * vdot_k * (ephemeris['C_us']*cos2Phi_k - ephemeris['C_uc']*sin2Phi_k)\n",
    "    \n",
    "    rdot_k = ephemeris['e'] * A * Edot_k * np.sin(E_k) + 2 * vdot_k * (ephemeris['C_rs'] * cos2Phi_k - ephemeris['C_rc'] * sin2Phi_k)\n",
    "    \n",
    "    Omegadot_k = ephemeris['OmegaDot'] - OmegaDot_e\n",
    "    \n",
    "    x_plus_dot_k = rdot_k * np.cos(u_k) - r_k * udot_k*np.sin(u_k)\n",
    "    y_plus_dot_k = rdot_k * np.sin(u_k) + r_k * udot_k*np.cos(u_k)\n",
    "    \n",
    "    sv_position['v_x'] = -x_k_prime * Omegadot_k * np.sin(Omega_k) + x_plus_dot_k * np.cos(Omega_k) - y_plus_dot_k * np.sin(Omega_k)*np.cos(i_k) - y_k_prime * (Omegadot_k * np.cos(Omega_k) * np.cos(i_k) - d_idotk * np.sin(Omega_k)*np.sin(i_k))\n",
    "    \n",
    "    sv_position['v_y'] = x_k_prime * Omegadot_k * np.cos(Omega_k) + x_plus_dot_k * np.sin(Omega_k) + y_plus_dot_k * np.cos(Omega_k)*np.cos(i_k) - y_k_prime * (Omegadot_k * np.sin(Omega_k) * np.cos(i_k) + d_idotk * np.cos(Omega_k)*np.sin(i_k))\n",
    "    \n",
    "    sv_position['v_z'] = y_plus_dot_k * np.sin(i_k) + y_k_prime * d_idotk * np.cos(i_k)\n",
    "    \n",
    "    \n",
    "    return sv_position"
   ]
  },
  {
   "cell_type": "code",
   "execution_count": 11,
   "metadata": {},
   "outputs": [],
   "source": [
    "# Run the function and check out the results:\n",
    "measurement['ReceivedSvTimeNanos'] = pd.to_numeric(measurement['ReceivedSvTimeNanos'])\n",
    "measurement['TimeOffsetNanos'] = pd.to_numeric(measurement['TimeOffsetNanos'])\n",
    "sv_position = calculate_satellite_position_in_GPS(ephemeris_data,  1e-9*(measurement['ReceivedSvTimeNanos'] + measurement['TimeOffsetNanos']))\n",
    "measurement['tTxSeconds'] = 1e-9*(measurement['ReceivedSvTimeNanos'] + measurement['TimeOffsetNanos'])\n",
    "measurement['SvPositionXEcefMeters'] = sv_position['x_k']\n",
    "measurement['SvPositionYEcefMeters'] = sv_position['y_k']\n",
    "measurement['SvPositionZEcefMeters'] = sv_position['z_k']\n",
    "measurement['SvVelocityXEcefMetersPerSecond'] = sv_position['v_x']\n",
    "measurement['SvVelocityYEcefMetersPerSecond'] = sv_position['v_y']\n",
    "measurement['SvVelocityZEcefMetersPerSecond'] = sv_position['v_z']\n",
    "measurement['SvClockBiasMeters'] = sv_position['SvClockBiasMeters']\n",
    "measurement['SvClockDriftMetersPerSecond'] = sv_position['SvClockDriftMetersPerSecond']\n",
    "\n",
    "\n",
    "measurement = measurement.loc[measurement['IsrbMeters'] == 0.0]\n",
    "measurement.reset_index(drop=True, inplace=True)\n",
    "truth = truth.loc[truth['IsrbMeters'] == 0.0]\n",
    "truth.reset_index(drop=True, inplace=True)\n",
    "# truth['TroposphericDelayMeters'].to_csv('truth.csv')\n"
   ]
  },
  {
   "cell_type": "code",
   "execution_count": 12,
   "metadata": {},
   "outputs": [
    {
     "name": "stdout",
     "output_type": "stream",
     "text": [
      "0.1962798102397235\n"
     ]
    }
   ],
   "source": [
    "# measurement[['SvPositionXEcefMeters','SvPositionYEcefMeters','SvPositionZEcefMeters','tTxSeconds']].head(20)\n",
    "# measurement[['ReceivedSvTimeNanos']]\n",
    "mea = pd.DataFrame()\n",
    "t = pd.DataFrame()\n",
    "Z = 'X'\n",
    "mea['SvPosition' + Z + 'EcefMeters1'] = measurement['SvPosition' + Z + 'EcefMeters']\n",
    "\n",
    "t['SvPosition' + Z + 'EcefMeters'] = truth['SvPosition' + Z + 'EcefMeters']\n",
    "t['SvPosition' + Z + 'EcefMeters'].to_csv('distance.csv')\n",
    "\n",
    "merged_df = pd.merge(mea, t,left_index=True, right_index=True)\n",
    "merged_df = merged_df.dropna()\n",
    "\n",
    "merged_df['dif'] = measurement['SvPosition' + Z + 'EcefMeters'] - truth['SvPosition' + Z + 'EcefMeters']\n",
    "\n",
    "MSE = np.square(np.subtract(mea['SvPosition' + Z + 'EcefMeters1'] , t['SvPosition' + Z + 'EcefMeters'])).mean() \n",
    "print(MSE)"
   ]
  },
  {
   "cell_type": "code",
   "execution_count": 13,
   "metadata": {},
   "outputs": [],
   "source": [
    "# def my_ecef2lla(pos):\n",
    "#   # x, y and z are scalars or vectors in meters\n",
    "#   x = pos[0]\n",
    "#   y = pos[1]\n",
    "#   z = pos[2]\n",
    "#   EARTH_SEMI_MAJOR_AXIS_METERS = 6378137.0\n",
    "#   ECCENTRICITY = 8.1819190842622e-2\n",
    "#   SEMI_MINOR_AXIS_METERS = np.sqrt(EARTH_SEMI_MAJOR_AXIS_METERS**2) * (1 -(ECCENTRICITY**2))\n",
    "  \n",
    "#   SECOND_ECCENTRICITY = np.sqrt(\n",
    "#           (EARTH_SEMI_MAJOR_AXIS_METERS ** 2 - SEMI_MINOR_AXIS_METERS ** 2)\n",
    "#               / SEMI_MINOR_AXIS_METERS ** 2)\n",
    "#   ECEF_NEAR_POLE_THRESHOLD_METERS = 1.0\n",
    "#   # calculations:\n",
    "#   pMeters = np.sqrt(x**2 + y**2)\n",
    "#   thetaRadians = np.arctan2(EARTH_SEMI_MAJOR_AXIS_METERS * z, SEMI_MINOR_AXIS_METERS * pMeters)\n",
    "#   lngRadians = np.arctan2(y,x)\n",
    "#   lngRadians = lngRadians % (2 * np.pi)\n",
    "#   sinTheta = np.sin(thetaRadians)\n",
    "#   cosTheta = np.cos(thetaRadians)\n",
    "#   tempY = z + SECOND_ECCENTRICITY**2 * SEMI_MINOR_AXIS_METERS * sinTheta**3\n",
    "#   tempX = pMeters - ECCENTRICITY**2 * EARTH_SEMI_MAJOR_AXIS_METERS * cosTheta**3\n",
    "  \n",
    "#   latRadians = np.arctan2(tempY,tempX)\n",
    "#   curvatureRadius = EARTH_SEMI_MAJOR_AXIS_METERS / np.sqrt(1 - ECCENTRICITY**2 *(np.sin(latRadians)**2))\n",
    "#   altMeters = pMeters / np.cos(latRadians) - curvatureRadius\n",
    "  \n",
    "#   if(abs(x) < ECEF_NEAR_POLE_THRESHOLD_METERS and abs(y) < ECEF_NEAR_POLE_THRESHOLD_METERS):\n",
    "#     altMeters = abs(z) - SEMI_MINOR_AXIS_METERS\n",
    "  \n",
    "#   return latRadians, lngRadians, altMeters"
   ]
  },
  {
   "cell_type": "code",
   "execution_count": 14,
   "metadata": {},
   "outputs": [],
   "source": [
    "def my_ecef2lla(pos):\n",
    "  # x, y and z are scalars or vectors in meters\n",
    "  X = pos[0]\n",
    "  Y = pos[1]\n",
    "  Z = pos[2]\n",
    "  # WGS84 constants\n",
    "  a = 6378137.0  # Semi-major axis\n",
    "  f = 1 / 298.257223563  # Flattening\n",
    "  e2 = 2 * f - f * f  # Square of eccentricity\n",
    "  \n",
    "  # Calculations\n",
    "  r = math.sqrt(X**2 + Y**2)\n",
    "  E2 = a**2 - (a * (1 - f))**2\n",
    "  F = 54 * (a * (1 - f))**2 * Z**2\n",
    "  G = r**2 + (1 - e2) * Z**2 - e2 * E2\n",
    "  c = (e2**2 * F * r**2) / (G**3)\n",
    "  s = (1 + c + math.sqrt(c**2 + 2 * c))**(1/3)\n",
    "  P = F / (3 * (s + 1/s + 1)**2 * G**2)\n",
    "  Q = math.sqrt(1 + 2 * e2**2 * P)\n",
    "  r0 = -(P * e2 * r) / (1 + Q) + math.sqrt(0.5 * a**2 * (1 + 1/Q) - (P * (1 - e2) * Z**2) / (Q * (1 + Q)) - 0.5 * P * r**2)\n",
    "  U = math.sqrt((r - e2 * r0)**2 + Z**2)\n",
    "  V = math.sqrt((r - e2 * r0)**2 + (1 - e2) * Z**2)\n",
    "  Z0 = (a * (1 - f))**2 * Z / (a * V)\n",
    "  h = U * (1 - (a * (1 - f))**2 / (a * V))\n",
    "  phi = math.atan((Z + e2 * Z0) / r)\n",
    "  lambda_ = math.atan2(Y, X)\n",
    "  \n",
    "  # Convert radians to degrees\n",
    "  latitude = math.degrees(phi)\n",
    "  longitude = math.degrees(lambda_)\n",
    "  \n",
    "  return latitude, longitude, h\n"
   ]
  },
  {
   "cell_type": "markdown",
   "metadata": {},
   "source": [
    "Tính toàn evelation và azimuth"
   ]
  },
  {
   "cell_type": "code",
   "execution_count": 15,
   "metadata": {},
   "outputs": [],
   "source": [
    "# Đường dẫn đến file RINEX navigation của bạn\n",
    "get_alpha_beta = manager.get_filepaths(timestamp)\n",
    "path = get_alpha_beta['nasa_daily_gps']['filepath']\n",
    "file_with_extension = os.path.basename(path)\n",
    "file_name, extension = os.path.splitext(file_with_extension)\n",
    "file_name = \"output/nasa/\" + file_name\n",
    "alpha, beta = manager.extract_ionospheric_params(file_name)"
   ]
  },
  {
   "cell_type": "code",
   "execution_count": 16,
   "metadata": {},
   "outputs": [
    {
     "name": "stdout",
     "output_type": "stream",
     "text": [
      "       ConstellationType Svid  utcTimeMillis  ReceivedSvTimeNanos  \\\n",
      "0                      1   10  1593045252440      347670368542152   \n",
      "1                      1   13  1593045252440      347670360573483   \n",
      "2                      1   15  1593045252440      347670367737558   \n",
      "3                      1   16  1593045252440      347670363511034   \n",
      "4                      1   18  1593045252440      347670371934131   \n",
      "...                  ...  ...            ...                  ...   \n",
      "14708                  1   21  1593046551440      348969370005975   \n",
      "14709                  1   26  1593046551440      348969360286476   \n",
      "14710                  1   27  1593046551440      348969365828788   \n",
      "14711                  1   29  1593046551440      348969360716360   \n",
      "14712                  1   32  1593046551440      348969359369790   \n",
      "\n",
      "       TimeOffsetNanos  IsrbMeters  RawPseudorangeMeters  Cn0DbHz  \\\n",
      "0                  0.0         0.0          2.170828e+07     40.2   \n",
      "1                  0.0         0.0          2.409723e+07     25.5   \n",
      "2                  0.0         0.0          2.194949e+07     39.4   \n",
      "3                  0.0         0.0          2.321657e+07     38.6   \n",
      "4                  0.0         0.0          2.069139e+07     39.0   \n",
      "...                ...         ...                   ...      ...   \n",
      "14708              0.0         0.0          2.126944e+07     27.8   \n",
      "14709              0.0         0.0          2.418327e+07     35.7   \n",
      "14710              0.0         0.0          2.252172e+07     36.4   \n",
      "14711              0.0         0.0          2.405439e+07     24.3   \n",
      "14712              0.0         0.0          2.445808e+07     39.6   \n",
      "\n",
      "       MultipathIndicator  RawPseudorangeUncertaintyMeters  ... Epoch  \\\n",
      "0                       0                         2.098547  ...     0   \n",
      "1                       0                        10.492736  ...     0   \n",
      "2                       0                         2.398340  ...     0   \n",
      "3                       0                         2.698132  ...     0   \n",
      "4                       0                         2.698132  ...     0   \n",
      "...                   ...                              ...  ...   ...   \n",
      "14708                   0                         8.094396  ...  1299   \n",
      "14709                   0                         3.597509  ...  1299   \n",
      "14710                   0                         3.297717  ...  1299   \n",
      "14711                   0                        11.991698  ...  1299   \n",
      "14712                   0                         2.398340  ...  1299   \n",
      "\n",
      "          tTxSeconds SvPositionXEcefMeters  SvPositionYEcefMeters  \\\n",
      "0      347670.368542         -2.240264e+07          -1.177153e+07   \n",
      "1      347670.360573          1.360325e+07          -8.033463e+06   \n",
      "2      347670.367738          7.424444e+06          -1.765822e+07   \n",
      "3      347670.363511         -2.279781e+07           1.698396e+06   \n",
      "4      347670.371934         -2.062221e+06          -1.734371e+07   \n",
      "...              ...                   ...                    ...   \n",
      "14708  348969.370006         -1.113122e+07          -1.138464e+07   \n",
      "14709  348969.360286         -2.611743e+07          -4.923473e+06   \n",
      "14710  348969.365829         -1.515907e+07           1.269393e+06   \n",
      "14711  348969.360716         -2.412660e+06          -2.529350e+07   \n",
      "14712  348969.359370         -1.594651e+07          -1.765321e+07   \n",
      "\n",
      "       SvPositionZEcefMeters  SvVelocityXEcefMetersPerSecond  \\\n",
      "0               8.541119e+06                     1087.119541   \n",
      "1               2.121789e+07                      457.943629   \n",
      "2               1.792610e+07                     1089.399195   \n",
      "3               1.367457e+07                    -1601.097374   \n",
      "4               1.999141e+07                     1897.663640   \n",
      "...                      ...                             ...   \n",
      "14708           2.205499e+07                     1518.939410   \n",
      "14709          -2.398759e+06                      333.814604   \n",
      "14710           2.166233e+07                     -978.603605   \n",
      "14711          -7.725352e+06                      469.794214   \n",
      "14712          -1.187970e+07                     -332.600886   \n",
      "\n",
      "       SvVelocityYEcefMetersPerSecond  SvVelocityZEcefMetersPerSecond  \\\n",
      "0                           45.296162                     2920.922422   \n",
      "1                         2683.290883                      727.871378   \n",
      "2                         2112.180981                     1638.967633   \n",
      "3                         -728.602395                    -2495.324084   \n",
      "4                        -1692.664452                    -1274.444434   \n",
      "...                               ...                             ...   \n",
      "14708                    -2135.499253                     -319.230448   \n",
      "14709                     -267.013290                    -3109.801318   \n",
      "14710                    -2597.802658                     -496.609036   \n",
      "14711                      873.663181                    -3027.881527   \n",
      "14712                    -1499.445485                     2640.815613   \n",
      "\n",
      "       SvClockBiasMeters  SvClockDriftMetersPerSecond  \n",
      "0         -114233.034173                    -0.003306  \n",
      "1            6339.733906                     0.000954  \n",
      "2          -66547.591965                     0.000784  \n",
      "3          -52342.416716                    -0.001397  \n",
      "4           68753.718293                     0.003067  \n",
      "...                  ...                          ...  \n",
      "14708        4721.051708                     0.001397  \n",
      "14709       69413.336523                     0.002079  \n",
      "14710      -98694.801890                    -0.002931  \n",
      "14711      -40624.246500                    -0.002590  \n",
      "14712       91723.370103                     0.002011  \n",
      "\n",
      "[14713 rows x 23 columns]\n"
     ]
    },
    {
     "name": "stderr",
     "output_type": "stream",
     "text": [
      "C:\\Users\\ductm\\AppData\\Local\\Temp\\ipykernel_4404\\3101338472.py:19: SettingWithCopyWarning: \n",
      "A value is trying to be set on a copy of a slice from a DataFrame.\n",
      "Try using .loc[row_indexer,col_indexer] = value instead\n",
      "\n",
      "See the caveats in the documentation: https://pandas.pydata.org/pandas-docs/stable/user_guide/indexing.html#returning-a-view-versus-a-copy\n",
      "  measurement.at[index , 'SvElevationDegrees'] = elevation\n",
      "C:\\Users\\ductm\\AppData\\Local\\Temp\\ipykernel_4404\\3101338472.py:20: SettingWithCopyWarning: \n",
      "A value is trying to be set on a copy of a slice from a DataFrame.\n",
      "Try using .loc[row_indexer,col_indexer] = value instead\n",
      "\n",
      "See the caveats in the documentation: https://pandas.pydata.org/pandas-docs/stable/user_guide/indexing.html#returning-a-view-versus-a-copy\n",
      "  measurement.at[index , 'SvAzimuthDegrees'] = azimuth\n"
     ]
    }
   ],
   "source": [
    "\n",
    "wls = WLS()\n",
    "angle = ElevationAzimuthAngle()\n",
    "calculate_tropo = Troposphere()\n",
    "calculate_iono = Ionosphere()\n",
    "ecef_list = []\n",
    "print(measurement)\n",
    "for epoch in measurement['Epoch'].unique():\n",
    "    # measurement['IsrbMeters'].loc[len(measurement['IsrbMeters'])] = 0\n",
    "    one_epoch = measurement.loc[(measurement['Epoch'] == epoch)] \n",
    "    if len(one_epoch.index) > 4:\n",
    "        x = wls.WLS_onePosition_rawPseudo(one_epoch)\n",
    "        estimated_lla = my_ecef2lla(x)\n",
    "        for index in one_epoch.index:\n",
    "            result_list = measurement.loc[index, ['SvPositionXEcefMeters', 'SvPositionYEcefMeters', 'SvPositionZEcefMeters']]\n",
    "            satellite_ecef = (result_list)\n",
    "            elevation, azimuth = angle.CalculateAngle(satellite_ecef,estimated_lla)\n",
    "\n",
    "            # Thêm các giá trị mới vào DataFrame\n",
    "            measurement.at[index , 'SvElevationDegrees'] = elevation\n",
    "            measurement.at[index , 'SvAzimuthDegrees'] = azimuth\n"
   ]
  },
  {
   "cell_type": "markdown",
   "metadata": {},
   "source": [
    "Sai số của 2 góc"
   ]
  },
  {
   "cell_type": "code",
   "execution_count": 17,
   "metadata": {},
   "outputs": [
    {
     "name": "stdout",
     "output_type": "stream",
     "text": [
      "9.765827125575409e-07\n"
     ]
    }
   ],
   "source": [
    "mea = pd.DataFrame()\n",
    "t = pd.DataFrame()\n",
    "mea['SvElevationDegrees1'] = measurement['SvElevationDegrees']\n",
    "\n",
    "t['SvElevationDegrees'] = truth['SvElevationDegrees']\n",
    "\n",
    "\n",
    "merged_df = pd.merge(mea, t,left_index=True, right_index=True)\n",
    "merged_df = merged_df.dropna()\n",
    "MSE = np.square(np.subtract(mea['SvElevationDegrees1'] , t['SvElevationDegrees'])).mean() \n",
    "print(MSE)\n"
   ]
  },
  {
   "cell_type": "code",
   "execution_count": 18,
   "metadata": {},
   "outputs": [],
   "source": [
    "mea = pd.DataFrame()\n",
    "t = pd.DataFrame()\n",
    "mea['SvAzimuthDegrees1'] = measurement['SvAzimuthDegrees']\n",
    "\n",
    "t['SvAzimuthDegrees'] = truth['SvAzimuthDegrees']\n",
    "mea['SvAzimuthDegrees1'].to_csv('truth.csv')\n",
    "\n",
    "\n",
    "# merged_df = pd.merge(mea, t,left_index=True, right_index=True)\n",
    "# merged_df = merged_df.dropna()\n",
    "# MSE = np.square(np.subtract(mea['SvAzimuthDegrees1'] , t['SvAzimuthDegrees'])).mean() \n",
    "# print(MSE)"
   ]
  },
  {
   "cell_type": "markdown",
   "metadata": {},
   "source": [
    "tính toán trễ Iono và Tropo"
   ]
  },
  {
   "cell_type": "code",
   "execution_count": 19,
   "metadata": {},
   "outputs": [
    {
     "name": "stderr",
     "output_type": "stream",
     "text": [
      "C:\\Users\\ductm\\AppData\\Local\\Temp\\ipykernel_4404\\74277611.py:9: SettingWithCopyWarning: \n",
      "A value is trying to be set on a copy of a slice from a DataFrame.\n",
      "Try using .loc[row_indexer,col_indexer] = value instead\n",
      "\n",
      "See the caveats in the documentation: https://pandas.pydata.org/pandas-docs/stable/user_guide/indexing.html#returning-a-view-versus-a-copy\n",
      "  measurement.at[index,'TroposphericDelayMeters'] = calculate_tropo.calculateTropoCorrectionMeters(\n",
      "C:\\Users\\ductm\\AppData\\Local\\Temp\\ipykernel_4404\\74277611.py:15: SettingWithCopyWarning: \n",
      "A value is trying to be set on a copy of a slice from a DataFrame.\n",
      "Try using .loc[row_indexer,col_indexer] = value instead\n",
      "\n",
      "See the caveats in the documentation: https://pandas.pydata.org/pandas-docs/stable/user_guide/indexing.html#returning-a-view-versus-a-copy\n",
      "  measurement.at[index,'IonosphericDelayMeters'] = calculate_iono.klobuchar_ionospheric_delay(\n"
     ]
    }
   ],
   "source": [
    "for epoch in measurement['Epoch'].unique():\n",
    "    one_epoch = measurement.loc[(measurement['Epoch'] == epoch)] \n",
    "    if len(one_epoch.index) > 4:\n",
    "        x = wls.WLS_onePosition_rawPseudo(one_epoch)\n",
    "        estimated_lla = my_ecef2lla(x)\n",
    "        for index in one_epoch.index:\n",
    "            result_list = measurement.loc[index, ['SvPositionXEcefMeters', 'SvPositionYEcefMeters', 'SvPositionZEcefMeters']]\n",
    "            satellite_ecef = (result_list)\n",
    "            measurement.at[index,'TroposphericDelayMeters'] = calculate_tropo.calculateTropoCorrectionMeters(\n",
    "                np.deg2rad(measurement['SvElevationDegrees'].iloc[index]),\n",
    "                np.deg2rad(estimated_lla[0]),\n",
    "                estimated_lla[2],\n",
    "                measurement['utcTimeMillis'].iloc[index])\n",
    "\n",
    "            measurement.at[index,'IonosphericDelayMeters'] = calculate_iono.klobuchar_ionospheric_delay(\n",
    "                measurement['utcTimeMillis'].iloc[index],\n",
    "                estimated_lla[0],\n",
    "                estimated_lla[1],\n",
    "                measurement['SvAzimuthDegrees'].iloc[index],\n",
    "                measurement['SvElevationDegrees'].iloc[index],\n",
    "                alpha,\n",
    "                beta)\n",
    "        "
   ]
  },
  {
   "cell_type": "code",
   "execution_count": 20,
   "metadata": {},
   "outputs": [
    {
     "name": "stdout",
     "output_type": "stream",
     "text": [
      "19.58646743582396\n"
     ]
    }
   ],
   "source": [
    "mea = pd.DataFrame()\n",
    "t = pd.DataFrame()\n",
    "mea['TroposphericDelayMeters1'] = measurement['TroposphericDelayMeters']\n",
    "\n",
    "t['TroposphericDelayMeters'] = truth['TroposphericDelayMeters']\n",
    "# mea['TroposphericDelayMeters1'].to_csv('truth1.csv')\n",
    "\n",
    "\n",
    "merged_df = pd.merge(mea, t,left_index=True, right_index=True)\n",
    "merged_df = merged_df.dropna()\n",
    "merged_df['dif'] = abs(mea['TroposphericDelayMeters1'] - t['TroposphericDelayMeters'])\n",
    "MSE = np.square(np.subtract(mea['TroposphericDelayMeters1'] , t['TroposphericDelayMeters'])).mean() \n",
    "print(MSE)\n",
    "merged_df.to_csv('tropo.csv')\n",
    "\n"
   ]
  },
  {
   "cell_type": "code",
   "execution_count": 21,
   "metadata": {},
   "outputs": [
    {
     "name": "stdout",
     "output_type": "stream",
     "text": [
      "0.0010219907460764276\n"
     ]
    }
   ],
   "source": [
    "mea = pd.DataFrame()\n",
    "t = pd.DataFrame()\n",
    "mea['IonosphericDelayMeters1'] = measurement['IonosphericDelayMeters']\n",
    "\n",
    "t['IonosphericDelayMeters'] = truth['IonosphericDelayMeters']\n",
    "merged_df = pd.merge(mea, t,left_index=True, right_index=True)\n",
    "merged_df = merged_df.dropna()\n",
    "MSE = np.square(np.subtract(mea['IonosphericDelayMeters1'],t['IonosphericDelayMeters'])).mean() \n",
    "print(MSE)\n",
    "merged_df.to_csv('iono.csv')"
   ]
  }
 ],
 "metadata": {
  "kernelspec": {
   "display_name": "Python 3",
   "language": "python",
   "name": "python3"
  },
  "language_info": {
   "codemirror_mode": {
    "name": "ipython",
    "version": 3
   },
   "file_extension": ".py",
   "mimetype": "text/x-python",
   "name": "python",
   "nbconvert_exporter": "python",
   "pygments_lexer": "ipython3",
   "version": "3.11.1"
  }
 },
 "nbformat": 4,
 "nbformat_minor": 2
}
